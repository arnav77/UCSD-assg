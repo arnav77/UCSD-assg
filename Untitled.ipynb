{
 "cells": [
  {
   "cell_type": "code",
   "execution_count": 16,
   "metadata": {},
   "outputs": [],
   "source": [
    "import sys"
   ]
  },
  {
   "cell_type": "code",
   "execution_count": 17,
   "metadata": {
    "scrolled": false
   },
   "outputs": [],
   "source": [
    "import numpy"
   ]
  },
  {
   "cell_type": "code",
   "execution_count": 18,
   "metadata": {},
   "outputs": [
    {
     "name": "stdout",
     "output_type": "stream",
     "text": [
      "hello world\n"
     ]
    }
   ],
   "source": [
    "print(\"hello world\")"
   ]
  },
  {
   "cell_type": "code",
   "execution_count": 19,
   "metadata": {},
   "outputs": [
    {
     "name": "stdout",
     "output_type": "stream",
     "text": [
      " Volume in drive C has no label.\n",
      " Volume Serial Number is B021-2CFD\n",
      "\n",
      " Directory of C:\\Users\\Acer\\Downloads\\Week-4-Pandas\n",
      "\n",
      "12/19/2019  05:56 PM    <DIR>          .\n",
      "12/19/2019  05:56 PM    <DIR>          ..\n",
      "12/12/2019  06:24 PM             6,148 .DS_Store\n",
      "12/19/2019  05:06 PM    <DIR>          .ipynb_checkpoints\n",
      "12/19/2019  05:50 PM            31,339 Introduction to Pandas.ipynb\n",
      "12/12/2019  07:07 PM    <DIR>          movielens\n",
      "12/19/2019  05:56 PM             7,638 Untitled.ipynb\n",
      "               3 File(s)         45,125 bytes\n",
      "               4 Dir(s)  432,303,345,664 bytes free\n"
     ]
    }
   ],
   "source": [
    "ls"
   ]
  },
  {
   "cell_type": "code",
   "execution_count": 20,
   "metadata": {},
   "outputs": [],
   "source": [
    "import sys"
   ]
  },
  {
   "cell_type": "code",
   "execution_count": 21,
   "metadata": {},
   "outputs": [],
   "source": [
    "import math"
   ]
  },
  {
   "cell_type": "code",
   "execution_count": 28,
   "metadata": {},
   "outputs": [
    {
     "name": "stdout",
     "output_type": "stream",
     "text": [
      "Collecting pandas\n",
      "  Downloading https://files.pythonhosted.org/packages/f0/ac/92c3d2f0b627efbd1a7b2156faa697f9c2bbd7b0fe83ba8a9d36f982156f/pandas-0.25.3-cp36-cp36m-win_amd64.whl (9.0MB)\n",
      "Requirement already satisfied: numpy>=1.13.3 in c:\\users\\acer\\appdata\\local\\programs\\python\\python36\\lib\\site-packages (from pandas) (1.17.0)\n",
      "Collecting pytz>=2017.2 (from pandas)\n",
      "  Downloading https://files.pythonhosted.org/packages/e7/f9/f0b53f88060247251bf481fa6ea62cd0d25bf1b11a87888e53ce5b7c8ad2/pytz-2019.3-py2.py3-none-any.whl (509kB)\n",
      "Requirement already satisfied: python-dateutil>=2.6.1 in c:\\users\\acer\\appdata\\local\\programs\\python\\python36\\lib\\site-packages (from pandas) (2.8.0)\n",
      "Requirement already satisfied: six>=1.5 in c:\\users\\acer\\appdata\\local\\programs\\python\\python36\\lib\\site-packages (from python-dateutil>=2.6.1->pandas) (1.12.0)\n",
      "Installing collected packages: pytz, pandas\n",
      "Successfully installed pandas-0.25.3 pytz-2019.3\n",
      "Note: you may need to restart the kernel to use updated packages.\n"
     ]
    },
    {
     "name": "stderr",
     "output_type": "stream",
     "text": [
      "You are using pip version 10.0.1, however version 19.3.1 is available.\n",
      "You should consider upgrading via the 'python -m pip install --upgrade pip' command.\n"
     ]
    }
   ],
   "source": [
    "pip install pandas"
   ]
  },
  {
   "cell_type": "code",
   "execution_count": 23,
   "metadata": {},
   "outputs": [
    {
     "data": {
      "text/plain": [
       "-0.13235175009777303"
      ]
     },
     "execution_count": 23,
     "metadata": {},
     "output_type": "execute_result"
    }
   ],
   "source": [
    "math.sin(25)"
   ]
  },
  {
   "cell_type": "code",
   "execution_count": 24,
   "metadata": {},
   "outputs": [
    {
     "data": {
      "text/plain": [
       "'C:\\\\Users\\\\Acer\\\\Downloads\\\\Week-4-Pandas'"
      ]
     },
     "execution_count": 24,
     "metadata": {},
     "output_type": "execute_result"
    }
   ],
   "source": [
    "pwd"
   ]
  },
  {
   "cell_type": "code",
   "execution_count": 29,
   "metadata": {},
   "outputs": [
    {
     "name": "stdout",
     "output_type": "stream",
     "text": [
      " Volume in drive C has no label.\n",
      " Volume Serial Number is B021-2CFD\n",
      "\n",
      " Directory of C:\\Users\\Acer\\Downloads\\Week-4-Pandas\n",
      "\n",
      "12/19/2019  05:58 PM    <DIR>          .\n",
      "12/19/2019  05:58 PM    <DIR>          ..\n",
      "12/12/2019  06:24 PM             6,148 .DS_Store\n",
      "12/19/2019  05:06 PM    <DIR>          .ipynb_checkpoints\n",
      "12/19/2019  05:50 PM            31,339 Introduction to Pandas.ipynb\n",
      "12/12/2019  07:07 PM    <DIR>          movielens\n",
      "12/19/2019  05:58 PM             4,201 Untitled.ipynb\n",
      "               3 File(s)         41,688 bytes\n",
      "               4 Dir(s)  433,802,096,640 bytes free\n"
     ]
    }
   ],
   "source": [
    "ls"
   ]
  },
  {
   "cell_type": "code",
   "execution_count": 30,
   "metadata": {},
   "outputs": [],
   "source": [
    "import pandas as pd"
   ]
  },
  {
   "cell_type": "code",
   "execution_count": 1,
   "metadata": {},
   "outputs": [
    {
     "name": "stdout",
     "output_type": "stream",
     "text": [
      "C:\\Users\\Acer\\Downloads\\Week-4-Pandas\n"
     ]
    }
   ],
   "source": [
    "cd C:\\Users\\Acer\\Downloads\\Week-4-Pandas"
   ]
  },
  {
   "cell_type": "code",
   "execution_count": 2,
   "metadata": {},
   "outputs": [
    {
     "name": "stdout",
     "output_type": "stream",
     "text": [
      " Volume in drive C has no label.\n",
      " Volume Serial Number is B021-2CFD\n",
      "\n",
      " Directory of C:\\Users\\Acer\\Downloads\\Week-4-Pandas\n",
      "\n",
      "12/19/2019  06:09 PM    <DIR>          .\n",
      "12/19/2019  06:09 PM    <DIR>          ..\n",
      "12/12/2019  06:24 PM             6,148 .DS_Store\n",
      "12/19/2019  05:06 PM    <DIR>          .ipynb_checkpoints\n",
      "12/19/2019  06:09 PM            57,056 Introduction to Pandas.ipynb\n",
      "12/19/2019  06:10 PM    <DIR>          movielens\n",
      "12/19/2019  06:02 PM             5,717 Untitled.ipynb\n",
      "               3 File(s)         68,921 bytes\n",
      "               4 Dir(s)  433,716,346,880 bytes free\n"
     ]
    }
   ],
   "source": [
    "ls"
   ]
  },
  {
   "cell_type": "code",
   "execution_count": 3,
   "metadata": {},
   "outputs": [
    {
     "ename": "SyntaxError",
     "evalue": "invalid syntax (<ipython-input-3-dcf978bad379>, line 1)",
     "output_type": "error",
     "traceback": [
      "\u001b[1;36m  File \u001b[1;32m\"<ipython-input-3-dcf978bad379>\"\u001b[1;36m, line \u001b[1;32m1\u001b[0m\n\u001b[1;33m    ls./movielens\u001b[0m\n\u001b[1;37m       ^\u001b[0m\n\u001b[1;31mSyntaxError\u001b[0m\u001b[1;31m:\u001b[0m invalid syntax\n"
     ]
    }
   ],
   "source": [
    "ls./movielens"
   ]
  },
  {
   "cell_type": "code",
   "execution_count": 4,
   "metadata": {},
   "outputs": [
    {
     "ename": "SyntaxError",
     "evalue": "invalid syntax (<ipython-input-4-ba605a8d83bb>, line 1)",
     "output_type": "error",
     "traceback": [
      "\u001b[1;36m  File \u001b[1;32m\"<ipython-input-4-ba605a8d83bb>\"\u001b[1;36m, line \u001b[1;32m1\u001b[0m\n\u001b[1;33m    man cat\u001b[0m\n\u001b[1;37m          ^\u001b[0m\n\u001b[1;31mSyntaxError\u001b[0m\u001b[1;31m:\u001b[0m invalid syntax\n"
     ]
    }
   ],
   "source": [
    "man cat"
   ]
  },
  {
   "cell_type": "code",
   "execution_count": null,
   "metadata": {},
   "outputs": [],
   "source": []
  }
 ],
 "metadata": {
  "kernelspec": {
   "display_name": "Python 3",
   "language": "python",
   "name": "python3"
  },
  "language_info": {
   "codemirror_mode": {
    "name": "ipython",
    "version": 3
   },
   "file_extension": ".py",
   "mimetype": "text/x-python",
   "name": "python",
   "nbconvert_exporter": "python",
   "pygments_lexer": "ipython3",
   "version": "3.6.7"
  }
 },
 "nbformat": 4,
 "nbformat_minor": 2
}
